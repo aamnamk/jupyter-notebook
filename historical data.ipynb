{
  "metadata": {
    "kernelspec": {
      "name": "python",
      "display_name": "Python (Pyodide)",
      "language": "python"
    },
    "language_info": {
      "codemirror_mode": {
        "name": "python",
        "version": 3
      },
      "file_extension": ".py",
      "mimetype": "text/x-python",
      "name": "python",
      "nbconvert_exporter": "python",
      "pygments_lexer": "ipython3",
      "version": "3.8"
    }
  },
  "nbformat_minor": 5,
  "nbformat": 4,
  "cells": [
    {
      "id": "dace2cdd-8f8f-47f0-b8b1-756936a13fba",
      "cell_type": "code",
      "source": "import pandas as pd\n\n# Sample historical sales data\ndata = {\n    'Product': ['Product_A', 'Product_B', 'Product_C'],\n    'Location': ['Store_1', 'Store_1', 'Store_2'],\n    'Date': ['2023-01-01', '2023-01-02', '2023-01-01'],\n    'Units_Sold': [50, 30, 70],\n    'Season': ['Winter', 'Winter', 'Winter']\n}\n\nhistorical_data = pd.DataFrame(data)\nprint(historical_data)\n",
      "metadata": {
        "trusted": true
      },
      "outputs": [
        {
          "name": "stdout",
          "output_type": "stream",
          "text": "     Product Location        Date  Units_Sold  Season\n0  Product_A  Store_1  2023-01-01          50  Winter\n1  Product_B  Store_1  2023-01-02          30  Winter\n2  Product_C  Store_2  2023-01-01          70  Winter\n"
        }
      ],
      "execution_count": 1
    },
    {
      "id": "e88f1363-d57b-478e-b7fa-839454ec9b99",
      "cell_type": "code",
      "source": "",
      "metadata": {
        "trusted": true
      },
      "outputs": [],
      "execution_count": null
    }
  ]
}