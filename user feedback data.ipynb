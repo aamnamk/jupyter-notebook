{
  "metadata": {
    "kernelspec": {
      "name": "python",
      "display_name": "Python (Pyodide)",
      "language": "python"
    },
    "language_info": {
      "codemirror_mode": {
        "name": "python",
        "version": 3
      },
      "file_extension": ".py",
      "mimetype": "text/x-python",
      "name": "python",
      "nbconvert_exporter": "python",
      "pygments_lexer": "ipython3",
      "version": "3.8"
    }
  },
  "nbformat_minor": 5,
  "nbformat": 4,
  "cells": [
    {
      "id": "a0cf4faf-8a88-40f9-8a21-8f0c34fd73e6",
      "cell_type": "code",
      "source": "# Importing pandas library\nimport pandas as pd\n# Example user feedback data\nuser_feedback = {\n    'Product': ['Product_A', 'Product_B'],\n    'Feedback_Type': ['Positive', 'Complaint'],\n    'Comment': ['Great quality!', 'Stock out issue.']\n}\n\nfeedback_df = pd.DataFrame(user_feedback)\nprint(feedback_df)",
      "metadata": {
        "trusted": true
      },
      "outputs": [
        {
          "name": "stdout",
          "output_type": "stream",
          "text": "     Product Feedback_Type           Comment\n0  Product_A      Positive    Great quality!\n1  Product_B     Complaint  Stock out issue.\n"
        }
      ],
      "execution_count": 2
    },
    {
      "id": "f4fa8a5c-d941-4cea-ad15-cde5e19dfcf1",
      "cell_type": "code",
      "source": "",
      "metadata": {
        "trusted": true
      },
      "outputs": [],
      "execution_count": null
    }
  ]
}