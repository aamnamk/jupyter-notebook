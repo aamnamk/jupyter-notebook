{
  "metadata": {
    "kernelspec": {
      "name": "python",
      "display_name": "Python (Pyodide)",
      "language": "python"
    },
    "language_info": {
      "codemirror_mode": {
        "name": "python",
        "version": 3
      },
      "file_extension": ".py",
      "mimetype": "text/x-python",
      "name": "python",
      "nbconvert_exporter": "python",
      "pygments_lexer": "ipython3",
      "version": "3.8"
    }
  },
  "nbformat_minor": 5,
  "nbformat": 4,
  "cells": [
    {
      "id": "6c617011-5605-40e8-90e2-4ac83836d518",
      "cell_type": "code",
      "source": "from sklearn.linear_model import LinearRegression\nimport pandas as pd\n\n# Historical data for training\nhistorical_data = {\n    'Product': ['Product_A', 'Product_B', 'Product_C'],\n    'Location': ['Store_1', 'Store_1', 'Store_2'],\n    'Date': ['2023-01-01', '2023-01-02', '2023-01-01'],\n    'Units_Sold': [50, 30, 70],\n    'Season': ['Winter', 'Winter', 'Winter']\n}\n\nhistorical_df = pd.DataFrame(historical_data)\n\n# Training the model\nfeatures = historical_df[['Units_Sold']]\nlabels = historical_df['Units_Sold'] * 1.1  # Applying a trend multiplier for forecasting\n\nmodel = LinearRegression()\nmodel.fit(features, labels)\n\n# Forecasting for new input\nnew_data = pd.DataFrame({'Units_Sold': [60]})  # Input with feature name\nforecast = model.predict(new_data)\nprint(f\"Forecasted demand for 60 units sold: {forecast[0]:.2f}\")\n",
      "metadata": {
        "trusted": true
      },
      "outputs": [
        {
          "name": "stdout",
          "output_type": "stream",
          "text": "Forecasted demand for 60 units sold: 66.00\n"
        }
      ],
      "execution_count": 1
    },
    {
      "id": "fc37d534-f3c1-42c7-ba56-c6e4899ec266",
      "cell_type": "code",
      "source": "",
      "metadata": {
        "trusted": true
      },
      "outputs": [],
      "execution_count": null
    }
  ]
}