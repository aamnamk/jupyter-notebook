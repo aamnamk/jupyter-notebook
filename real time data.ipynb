{
  "metadata": {
    "kernelspec": {
      "name": "python",
      "display_name": "Python (Pyodide)",
      "language": "python"
    },
    "language_info": {
      "codemirror_mode": {
        "name": "python",
        "version": 3
      },
      "file_extension": ".py",
      "mimetype": "text/x-python",
      "name": "python",
      "nbconvert_exporter": "python",
      "pygments_lexer": "ipython3",
      "version": "3.8"
    }
  },
  "nbformat_minor": 5,
  "nbformat": 4,
  "cells": [
    {
      "id": "52eb83ba-e460-4ffe-911b-7ec99b057d3d",
      "cell_type": "code",
      "source": "import pandas as pd\nimport random\nimport time\n\n# Simulating real-time inventory updates\ndef generate_real_time_data():\n    products = [\"Product_A\", \"Product_B\", \"Product_C\"]\n    real_time_data = []\n\n    for _ in range(10):  # Simulate 10 cycles of real-time data\n        product = random.choice(products)\n        current_stock = random.randint(0, 100)\n        timestamp = pd.Timestamp.now()\n        real_time_data.append({\n            \"Product\": product,\n            \"Current_Stock\": current_stock,\n            \"Timestamp\": timestamp\n        })\n        print(f\"Real-time update: Product: {product}, Stock: {current_stock}, Timestamp: {timestamp}\")\n        time.sleep(1)  # Simulate 1-second intervals between updates\n\n    return pd.DataFrame(real_time_data)\n\n# Generate and display real-time data\nreal_time_df = generate_real_time_data()\nprint(real_time_df)",
      "metadata": {
        "trusted": true
      },
      "outputs": [
        {
          "name": "stdout",
          "output_type": "stream",
          "text": "Real-time update: Product: Product_B, Stock: 23, Timestamp: 2025-01-27 23:07:38.404000\nReal-time update: Product: Product_C, Stock: 38, Timestamp: 2025-01-27 23:07:39.407000\nReal-time update: Product: Product_A, Stock: 2, Timestamp: 2025-01-27 23:07:40.407000\nReal-time update: Product: Product_C, Stock: 42, Timestamp: 2025-01-27 23:07:41.408000\nReal-time update: Product: Product_A, Stock: 68, Timestamp: 2025-01-27 23:07:42.408000\nReal-time update: Product: Product_C, Stock: 44, Timestamp: 2025-01-27 23:07:43.409000\nReal-time update: Product: Product_B, Stock: 61, Timestamp: 2025-01-27 23:07:44.409000\nReal-time update: Product: Product_A, Stock: 95, Timestamp: 2025-01-27 23:07:45.409000\nReal-time update: Product: Product_A, Stock: 47, Timestamp: 2025-01-27 23:07:46.410000\nReal-time update: Product: Product_B, Stock: 60, Timestamp: 2025-01-27 23:07:47.410000\n     Product  Current_Stock               Timestamp\n0  Product_B             23 2025-01-27 23:07:38.404\n1  Product_C             38 2025-01-27 23:07:39.407\n2  Product_A              2 2025-01-27 23:07:40.407\n3  Product_C             42 2025-01-27 23:07:41.408\n4  Product_A             68 2025-01-27 23:07:42.408\n5  Product_C             44 2025-01-27 23:07:43.409\n6  Product_B             61 2025-01-27 23:07:44.409\n7  Product_A             95 2025-01-27 23:07:45.409\n8  Product_A             47 2025-01-27 23:07:46.410\n9  Product_B             60 2025-01-27 23:07:47.410\n"
        }
      ],
      "execution_count": 1
    },
    {
      "id": "22e08fc5-eb84-4ae1-9c79-d0cd7bd3d16c",
      "cell_type": "code",
      "source": "",
      "metadata": {
        "trusted": true
      },
      "outputs": [],
      "execution_count": null
    }
  ]
}