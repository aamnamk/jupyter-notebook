{
  "metadata": {
    "kernelspec": {
      "name": "python",
      "display_name": "Python (Pyodide)",
      "language": "python"
    },
    "language_info": {
      "codemirror_mode": {
        "name": "python",
        "version": 3
      },
      "file_extension": ".py",
      "mimetype": "text/x-python",
      "name": "python",
      "nbconvert_exporter": "python",
      "pygments_lexer": "ipython3",
      "version": "3.8"
    }
  },
  "nbformat_minor": 5,
  "nbformat": 4,
  "cells": [
    {
      "id": "94088d15-8df3-4acc-b068-a874695428a8",
      "cell_type": "code",
      "source": "from scipy.optimize import linprog\n\n# Define the problem\n# Costs for each store\ncosts = [10, 15]  # Cost per unit for Store_1 and Store_2\n\n# Demand constraint (sum of orders should equal or exceed demand)\ndemand = 300  # Total units needed\n\n# Maximum supply available from each store\nmax_supply = [200, 150]  # Store capacities for Store_1 and Store_2\n\n# Bounds for each store's order (cannot order negative units)\nbounds = [(0, max_supply[0]), (0, max_supply[1])]\n\n# Equality constraint to meet demand (sum of orders >= demand)\n# Note: linprog minimizes, so we use <= for constraints.\nA_ub = [[-1, -1]]  # Coefficients for the inequality (sum of orders >= demand)\nb_ub = [-demand]  # Right-hand side of the inequality\n\n# Solve the optimization problem\nresult = linprog(c=costs, A_ub=A_ub, b_ub=b_ub, bounds=bounds, method=\"highs\")\n\n# Print results\nif result.success:\n    print(f\"Optimal Order Quantities:\")\n    print(f\"Store_1: {result.x[0]:.2f} units\")\n    print(f\"Store_2: {result.x[1]:.2f} units\")\n    print(f\"Minimum Total Cost: ${result.fun:.2f}\")\nelse:\n    print(\"Optimization failed:\", result.message)\n\n",
      "metadata": {
        "trusted": true
      },
      "outputs": [
        {
          "name": "stdout",
          "output_type": "stream",
          "text": "Optimal Order Quantities:\nStore_1: 200.00 units\nStore_2: 100.00 units\nMinimum Total Cost: $3500.00\n"
        }
      ],
      "execution_count": 3
    },
    {
      "id": "f66e1061-6dbc-4132-8d0e-dfc20228461f",
      "cell_type": "code",
      "source": "",
      "metadata": {
        "trusted": true
      },
      "outputs": [],
      "execution_count": null
    }
  ]
}