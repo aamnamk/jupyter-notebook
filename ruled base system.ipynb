{
  "metadata": {
    "kernelspec": {
      "name": "python",
      "display_name": "Python (Pyodide)",
      "language": "python"
    },
    "language_info": {
      "codemirror_mode": {
        "name": "python",
        "version": 3
      },
      "file_extension": ".py",
      "mimetype": "text/x-python",
      "name": "python",
      "nbconvert_exporter": "python",
      "pygments_lexer": "ipython3",
      "version": "3.8"
    }
  },
  "nbformat_minor": 5,
  "nbformat": 4,
  "cells": [
    {
      "id": "491e5c70-5ec2-48e4-a2c1-c4581c193537",
      "cell_type": "code",
      "source": "# Importing pandas library\nimport pandas as pd\n# Simple rule-based alert system\nreal_time_data = {\n    'Product': ['Product_A', 'Product_B'],\n    'Current_Stock': [20, 5]\n}\n\nreal_time_df = pd.DataFrame(real_time_data)\nfor _, row in real_time_df.iterrows():\n    if row['Current_Stock'] < 30:\n        print(f\"Alert: Low stock for {row['Product']}.\")",
      "metadata": {
        "trusted": true
      },
      "outputs": [
        {
          "name": "stdout",
          "output_type": "stream",
          "text": "Alert: Low stock for Product_A.\nAlert: Low stock for Product_B.\n"
        }
      ],
      "execution_count": 2
    },
    {
      "id": "7657c4df-9735-4e32-9dc1-4313f4172a42",
      "cell_type": "code",
      "source": "",
      "metadata": {
        "trusted": true
      },
      "outputs": [],
      "execution_count": null
    }
  ]
}